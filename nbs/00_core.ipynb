{
 "cells": [
  {
   "cell_type": "code",
   "execution_count": null,
   "metadata": {},
   "outputs": [],
   "source": [
    "# default_exp core"
   ]
  },
  {
   "cell_type": "markdown",
   "metadata": {},
   "source": [
    "## Core\n",
    "\n",
    "> API details."
   ]
  },
  {
   "cell_type": "code",
   "execution_count": null,
   "metadata": {},
   "outputs": [],
   "source": [
    "#hide\n",
    "from fastcore.test import *\n",
    "from nbdev.showdoc import *"
   ]
  },
  {
   "cell_type": "markdown",
   "metadata": {},
   "source": [
    "## Imports"
   ]
  },
  {
   "cell_type": "code",
   "execution_count": null,
   "metadata": {},
   "outputs": [],
   "source": [
    "#hide\n",
    "#export\n",
    "import math\n",
    "from itertools import cycle\n",
    "\n",
    "import torch\n",
    "from torch.utils.data import Dataset\n",
    "from torchvision import datasets\n",
    "from torch.utils.data import DataLoader\n",
    "\n",
    "import numpy as np\n",
    "import pandas as pd\n",
    "import matplotlib.pyplot as plt\n",
    "from typing import Sequence, Tuple, List, Dict, Any, Union, Optional, Callable\n",
    "\n",
    "import jax\n",
    "import jax.numpy as jnp\n",
    "from jax import random, vmap, jit, grad, make_jaxpr\n",
    "\n",
    "import flax\n",
    "import flax.linen as nn\n",
    "import flax.training.train_state as train_state\n",
    "\n",
    "import optax\n",
    "from optax import sgd, softmax_cross_entropy"
   ]
  },
  {
   "cell_type": "code",
   "execution_count": null,
   "metadata": {},
   "outputs": [],
   "source": [
    "%matplotlib inline"
   ]
  },
  {
   "cell_type": "code",
   "execution_count": null,
   "metadata": {},
   "outputs": [
    {
     "name": "stdout",
     "output_type": "stream",
     "text": [
      "Downloading http://fashion-mnist.s3-website.eu-central-1.amazonaws.com/train-images-idx3-ubyte.gz\n",
      "Downloading http://fashion-mnist.s3-website.eu-central-1.amazonaws.com/train-images-idx3-ubyte.gz to /home/mark/.data/FashionMNIST/raw/train-images-idx3-ubyte.gz\n"
     ]
    },
    {
     "data": {
      "application/vnd.jupyter.widget-view+json": {
       "model_id": "0217ec8a44bd428a9af83e21d62b66f7",
       "version_major": 2,
       "version_minor": 0
      },
      "text/plain": [
       "  0%|          | 0/26421880 [00:00<?, ?it/s]"
      ]
     },
     "metadata": {},
     "output_type": "display_data"
    },
    {
     "name": "stdout",
     "output_type": "stream",
     "text": [
      "Extracting /home/mark/.data/FashionMNIST/raw/train-images-idx3-ubyte.gz to /home/mark/.data/FashionMNIST/raw\n",
      "\n",
      "Downloading http://fashion-mnist.s3-website.eu-central-1.amazonaws.com/train-labels-idx1-ubyte.gz\n",
      "Downloading http://fashion-mnist.s3-website.eu-central-1.amazonaws.com/train-labels-idx1-ubyte.gz to /home/mark/.data/FashionMNIST/raw/train-labels-idx1-ubyte.gz\n"
     ]
    },
    {
     "data": {
      "application/vnd.jupyter.widget-view+json": {
       "model_id": "e2c3c08118064714a1836798d9208b53",
       "version_major": 2,
       "version_minor": 0
      },
      "text/plain": [
       "  0%|          | 0/29515 [00:00<?, ?it/s]"
      ]
     },
     "metadata": {},
     "output_type": "display_data"
    },
    {
     "name": "stdout",
     "output_type": "stream",
     "text": [
      "Extracting /home/mark/.data/FashionMNIST/raw/train-labels-idx1-ubyte.gz to /home/mark/.data/FashionMNIST/raw\n",
      "\n",
      "Downloading http://fashion-mnist.s3-website.eu-central-1.amazonaws.com/t10k-images-idx3-ubyte.gz\n",
      "Downloading http://fashion-mnist.s3-website.eu-central-1.amazonaws.com/t10k-images-idx3-ubyte.gz to /home/mark/.data/FashionMNIST/raw/t10k-images-idx3-ubyte.gz\n"
     ]
    },
    {
     "data": {
      "application/vnd.jupyter.widget-view+json": {
       "model_id": "5b25be5d75e44651a3558006c319693c",
       "version_major": 2,
       "version_minor": 0
      },
      "text/plain": [
       "  0%|          | 0/4422102 [00:00<?, ?it/s]"
      ]
     },
     "metadata": {},
     "output_type": "display_data"
    },
    {
     "name": "stdout",
     "output_type": "stream",
     "text": [
      "Extracting /home/mark/.data/FashionMNIST/raw/t10k-images-idx3-ubyte.gz to /home/mark/.data/FashionMNIST/raw\n",
      "\n",
      "Downloading http://fashion-mnist.s3-website.eu-central-1.amazonaws.com/t10k-labels-idx1-ubyte.gz\n",
      "Downloading http://fashion-mnist.s3-website.eu-central-1.amazonaws.com/t10k-labels-idx1-ubyte.gz to /home/mark/.data/FashionMNIST/raw/t10k-labels-idx1-ubyte.gz\n"
     ]
    },
    {
     "data": {
      "application/vnd.jupyter.widget-view+json": {
       "model_id": "a847ba22d58c485eb81ddac644a56731",
       "version_major": 2,
       "version_minor": 0
      },
      "text/plain": [
       "  0%|          | 0/5148 [00:00<?, ?it/s]"
      ]
     },
     "metadata": {},
     "output_type": "display_data"
    },
    {
     "name": "stdout",
     "output_type": "stream",
     "text": [
      "Extracting /home/mark/.data/FashionMNIST/raw/t10k-labels-idx1-ubyte.gz to /home/mark/.data/FashionMNIST/raw\n",
      "\n"
     ]
    }
   ],
   "source": [
    "#export\n",
    "def transform(img):\n",
    "    return np.array(img, dtype=np.float32).reshape(28, 28, 1) / 255.0\n",
    "\n",
    "def dataset(train=True):\n",
    "    return datasets.FashionMNIST(root='~/.data', train=train, download=True, transform=transform)\n",
    "\n",
    "def collate_fn(batch):\n",
    "    return list(map(jnp.stack, zip(*batch)))\n",
    "\n",
    "def dataloader(train=True, batch_size=64):\n",
    "    return DataLoader(\n",
    "        dataset(train=train), \n",
    "        batch_size=batch_size, \n",
    "        shuffle=train, \n",
    "        collate_fn=collate_fn, \n",
    "        drop_last=True, \n",
    "        num_workers=0)\n",
    "\n",
    "batch_size = 64\n",
    "train_dataloader = dataloader(train=True, batch_size=batch_size)\n",
    "test_dataloader = dataloader(train=False, batch_size=batch_size)"
   ]
  },
  {
   "cell_type": "code",
   "execution_count": null,
   "metadata": {},
   "outputs": [
    {
     "data": {
      "image/png": "[encoded data removed]",
      "text/plain": [
       "<Figure size 864x288 with 12 Axes>"
      ]
     },
     "metadata": {
      "needs_background": "light"
     },
     "output_type": "display_data"
    }
   ],
   "source": [
    "#export\n",
    "labels_map = {\n",
    "    0: \"T-Shirt\",\n",
    "    1: \"Trouser\",\n",
    "    2: \"Pullover\",\n",
    "    3: \"Dress\",\n",
    "    4: \"Coat\",\n",
    "    5: \"Sandal\",\n",
    "    6: \"Shirt\",\n",
    "    7: \"Sneaker\",\n",
    "    8: \"Bag\",\n",
    "    9: \"Ankle Boot\",\n",
    "}\n",
    "\n",
    "empty = cycle((None,))\n",
    "\n",
    "def get_label(idx):\n",
    "    if hasattr(idx, 'item'):\n",
    "        idx = idx.item()\n",
    "    return labels_map[idx]\n",
    "\n",
    "def get_title(gt_label, pred_label):\n",
    "    color = 'black'\n",
    "    if gt_label is not None and pred_label is not None:\n",
    "        title = f'{get_label(gt_label)} : {get_label(pred_label)}'\n",
    "        color = \"green\" if gt_label == pred_label else \"red\"\n",
    "    elif gt_label is not None:\n",
    "        title = f'{get_label(gt_label)}'\n",
    "    elif gt_label is not None:\n",
    "        title = f'{get_label(pred_label)}'\n",
    "    else:\n",
    "        title = ''\n",
    "    title = \" : \".join([get_label(label) for label in (gt_label, pred_label) if label is not None])\n",
    "    return title, color\n",
    "\n",
    "def show_batch(imgs, labels=empty, preds=empty, n_samples=9, cols=3):\n",
    "    if n_samples >= len(imgs):\n",
    "        n_samples = len(imgs)\n",
    "    rows = math.ceil(n_samples / cols)\n",
    "    _, axs = plt.subplots(rows, cols, figsize=(cols * 2, rows * 2))\n",
    "    for img, gt_label, pred_label, ax in zip(imgs, labels, preds, axs.flatten()):\n",
    "        title, color = get_title(gt_label, pred_label)\n",
    "        ax.set_title(title, color=color)\n",
    "        ax.axis(\"off\")\n",
    "        ax.imshow(img.squeeze(), cmap=\"gray\")\n"
   ]
  },
  {
   "cell_type": "code",
   "execution_count": null,
   "metadata": {},
   "outputs": [],
   "source": [
    "batch = next(iter(train_dataloader))\n",
    "show_batch(*batch, n_samples=12, cols=6)"
   ]
  },
  {
   "cell_type": "code",
   "execution_count": null,
   "metadata": {},
   "outputs": [],
   "source": [
    "#export\n",
    "class ConvBlock(nn.Module):\n",
    "    n_features : int\n",
    "    stride : int = 1\n",
    "    activation : Callable = nn.relu\n",
    "    last_activation : bool = True\n",
    "    norm : Union[Callable,None] = nn.BatchNorm\n",
    "    dropout : float = 0.0\n",
    "\n",
    "    @nn.compact\n",
    "    def __call__(self, x, training):\n",
    "        x = nn.Conv(self.n_features, (3, 3), self.stride, 'SAME')(x)\n",
    "        x = self.activation(x)\n",
    "        if self.norm:\n",
    "            x = self.norm(use_running_average=training)(x)\n",
    "        if self.dropout > 0:\n",
    "            x = nn.Dropout(self.dropout, deterministic=not training)(x)\n",
    "        x = nn.Conv(self.n_features, (3, 3), 1, 'SAME')(x)\n",
    "        if self.last_activation:\n",
    "            x = self.activation(x)\n",
    "        if self.norm:\n",
    "            x = self.norm(use_running_average=training)(x)\n",
    "        if self.dropout > 0:\n",
    "            x = nn.Dropout(self.dropout, deterministic=not training)(x)\n",
    "        return x\n"
   ]
  },
  {
   "cell_type": "code",
   "execution_count": null,
   "metadata": {},
   "outputs": [],
   "source": [
    "model = ConvBlock(n_features=32)\n",
    "dummy_input = np.random.randn(1, 28, 28, 1)\n",
    "out, params = model.init_with_output(jax.random.PRNGKey(0), dummy_input, True)\n",
    "test_eq(out.shape, (1, 28, 28, 32))\n",
    "out = jax.jit(model.apply, static_argnums=2)(params, dummy_input, True)\n",
    "test_eq(out.shape, (1, 28, 28, 32))\n",
    "# 64 features and stride is 2, so the output shape is halved\n",
    "model = ConvBlock(n_features=64, stride=2)\n",
    "out, params = model.init_with_output(jax.random.PRNGKey(0), out, True)\n",
    "test_eq(out.shape, (1, 14, 14, 64))\n",
    "# 256 features and stride is 2 without normalization, so the output shape is halved\n",
    "model = ConvBlock(n_features=256, stride=2, norm=None)\n",
    "out, params = model.init_with_output(jax.random.PRNGKey(0), out, True)\n",
    "test_eq(out.shape, (1, 7, 7, 256))"
   ]
  },
  {
   "cell_type": "markdown",
   "metadata": {},
   "source": [
    "## Model"
   ]
  },
  {
   "cell_type": "code",
   "execution_count": null,
   "metadata": {},
   "outputs": [],
   "source": [
    "#export\n",
    "class ConvMNIST(nn.Module):\n",
    "    ' comment'\n",
    "    features : Sequence[int] = (32,64,256,512,1024,10)\n",
    "    activation : Callable = nn.relu\n",
    "    norm : Union[Callable,None] = nn.BatchNorm\n",
    "    dropout : float = 0.0\n",
    "\n",
    "    @nn.compact\n",
    "    def __call__(self, x, training):\n",
    "        *features, last_feature = self.features\n",
    "        for n_features in features:\n",
    "            x = ConvBlock(\n",
    "                n_features=n_features, \n",
    "                stride=2,\n",
    "                activation=self.activation, \n",
    "                norm=self.norm, \n",
    "                dropout=self.dropout)(x, training)\n",
    "        x = x.reshape((x.shape[0], -1))\n",
    "        x = nn.Dense(last_feature)(x)\n",
    "        return x"
   ]
  },
  {
   "cell_type": "code",
   "execution_count": null,
   "metadata": {},
   "outputs": [],
   "source": [
    "model = ConvMNIST(features=[32,64,256,512,1024,10])\n",
    "dummy_input = np.random.randn(1, 28, 28, 1)\n",
    "out, params = model.init_with_output(jax.random.PRNGKey(0), dummy_input, True)\n",
    "test_eq(out.shape, (1, 10))"
   ]
  },
  {
   "cell_type": "code",
   "execution_count": null,
   "metadata": {},
   "outputs": [],
   "source": [
    "#export\n",
    "class TrainState(train_state.TrainState):\n",
    "    batch_stats : Any = None\n",
    "\n",
    "def create_state(train_dataloader, features=None, lr=0.01, momentum=0.9):\n",
    "    x, y = next(iter(train_dataloader))\n",
    "    model = ConvMNIST(features) if features else ConvMNIST()\n",
    "    variables = model.init(jax.random.PRNGKey(0), x, True)\n",
    "    tx = sgd(lr, momentum, nesterov=True)\n",
    "    return TrainState.create(\n",
    "        apply_fn=model.apply, \n",
    "        params=variables['params'], \n",
    "        batch_stats=variables['batch_stats'],\n",
    "        tx=tx)\n",
    "\n",
    "def compute_metrics(*, logits, labels):\n",
    "    loss = jnp.mean(softmax_cross_entropy(logits, jax.nn.one_hot(labels, 10)))\n",
    "    accuracy = jnp.mean(jnp.argmax(logits, axis=-1) == labels)\n",
    "    return {\n",
    "        'accuracy': accuracy,\n",
    "        'loss': loss,\n",
    "    }\n",
    "\n",
    "@jax.jit\n",
    "def train_step(state, batch):\n",
    "    def loss_fn(params):\n",
    "        logits, variables = state.apply_fn(\n",
    "            {'params':params, 'batch_stats':state.batch_stats}, \n",
    "            x, True, mutable=['batch_stats'])\n",
    "        loss = jnp.mean(softmax_cross_entropy(logits, jax.nn.one_hot(y, 10)))\n",
    "        return loss, (logits, variables)\n",
    "    x, y = batch\n",
    "    grad_fn = jax.value_and_grad(loss_fn, has_aux=True)\n",
    "    (_, (logits, variables)), grads = grad_fn(state.params)\n",
    "    state = state.apply_gradients(grads=grads, batch_stats=variables['batch_stats'])\n",
    "    metrics = compute_metrics(logits=logits, labels=y)\n",
    "    return state, metrics\n",
    "\n",
    "def train_epoch(train_dataloader, state, log_frequency=100):\n",
    "    epoch_metrics = None\n",
    "    for batch in train_dataloader:\n",
    "        state, metrics = train_step(state, batch)\n",
    "        if epoch_metrics is None:\n",
    "            epoch_metrics = metrics\n",
    "        else:\n",
    "            epoch_metrics = jax.tree_map(lambda x,y:jnp.append(x,y), epoch_metrics, metrics)\n",
    "        if state.step % log_frequency == 0:\n",
    "            print(f'\\tStep {state.step}: {jax.tree_map(lambda x:jnp.mean(x).item(),epoch_metrics)}')\n",
    "    return state, epoch_metrics\n"
   ]
  },
  {
   "cell_type": "code",
   "execution_count": null,
   "metadata": {},
   "outputs": [],
   "source": [
    "n_epochs = 10\n",
    "state = create_state(train_dataloader, features=[8,16,32,32,32,10])\n",
    "for epoch in range(n_epochs):\n",
    "    print(f'Epoch {epoch}')\n",
    "    state, epoch_metrics = train_epoch(train_dataloader, state)\n",
    "    print(f'Epoch {epoch} metrics: {jax.tree_map(lambda x:jnp.mean(x).item(),epoch_metrics)}')\n"
   ]
  },
  {
   "cell_type": "code",
   "execution_count": null,
   "metadata": {},
   "outputs": [
    {
     "data": {
      "text/plain": [
       "True"
      ]
     },
     "execution_count": null,
     "metadata": {},
     "output_type": "execute_result"
    }
   ],
   "source": []
  }
 ],
 "metadata": {
  "kernelspec": {
   "display_name": "Python 3.10.4",
   "language": "python",
   "name": "python3"
  }
 },
 "nbformat": 4,
 "nbformat_minor": 2
}
