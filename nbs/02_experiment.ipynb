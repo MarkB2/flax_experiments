{
 "cells": [
  {
   "cell_type": "code",
   "execution_count": null,
   "metadata": {},
   "outputs": [],
   "source": [
    "# default_exp exp"
   ]
  },
  {
   "cell_type": "code",
   "execution_count": null,
   "metadata": {},
   "outputs": [],
   "source": [
    "from nbdev.showdoc import *"
   ]
  },
  {
   "cell_type": "code",
   "execution_count": null,
   "metadata": {},
   "outputs": [],
   "source": [
    "#export\n",
    "class OK:\n",
    "    def __init__(self, x):\n",
    "        self.x = x"
   ]
  },
  {
   "cell_type": "code",
   "execution_count": null,
   "metadata": {},
   "outputs": [],
   "source": [
    "\n",
    "#export\n",
    "from dataclasses import dataclass\n",
    "\n",
    "@dataclass\n",
    "class Wrong:\n",
    "    x: int"
   ]
  },
  {
   "cell_type": "code",
   "execution_count": null,
   "metadata": {},
   "outputs": [],
   "source": [
    "Input In [3], in <cell line: 1>()\n",
    "----> 1 show_doc(Wrong, default_cls_level=2, show_all_docments=False)\n",
    "...\n",
    "File ~/miniconda3/envs/jaxenv/lib/python3.10/inspect.py:958, in findsource(object)\n",
    "    956     lines = linecache.getlines(file)\n",
    "    957 if not lines:\n",
    "--> 958     raise OSError('could not get source code')\n",
    "    960 if ismodule(object):\n",
    "    961     return lines, 0\n",
    "\n",
    "OSError: could not get source code"
   ]
  }
 ],
 "metadata": {
  "kernelspec": {
   "display_name": "Python 3.10.4 ('jaxenv')",
   "language": "python",
   "name": "python3"
  }
 },
 "nbformat": 4,
 "nbformat_minor": 2
}
